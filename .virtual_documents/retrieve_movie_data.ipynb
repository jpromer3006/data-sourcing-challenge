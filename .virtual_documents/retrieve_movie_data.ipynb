


# Dependencies
import requests
import time
from dotenv import load_dotenv
import os
import pandas as pd
import json


#set-up env file
load_dotenv()


# Set environment variables from the .env in the local environment
load_dotenv()

nyt_api_key = os.getenv("NYT_API_KEY")
tmdb_api_key = os.getenv("TMDB_API_KEY")


#do a request to my API
url = f"https://api.nytimes.com/svc/movies/v2/reviews/search.json?api-key+{nyt_api_key}"





# Set the base URL
url = "https://api.nytimes.com/svc/search/v2/articlesearch.json?"

# Filter for movie reviews with "love" in the headline
# section_name should be "Movies"
# type_of_material should be "Review"
Love_movie_reviews = 'section_name:"Movies" AND type_of_material:"Review" AND headline:"love"'

# Use a sort filter, sort by newest
sort = "newest"

# Select the following fields to return:
# headline, web_url, snippet, source, keywords, pub_date, byline, word_count
field_list = "headline,web_url,snippet,source,keywords,pub_date,byline,word_count"

# Search for reviews published between a begin and end date
begin_date = "20130101"
end_date = "20230531"

# Build URL
query_url = (
    f"{url}api-key={nyt_api_key}&begin_date={begin_date}&end_date={end_date}"
    + f'&fq={Love_movie_reviews}&sort={sort}&fl={field_list}'
    )


# Create an empty list to store the reviews
reviews_list = [] 

# loop through pages 0-19
for page in range(0,20):
    # create query with a page number
    # API results show 10 articles at a time
    query_page_url = f"{query_url}&page={page}"
    
    # Make a "GET" request and retrieve the JSON
    GET = requests.get(query_page_url).json()
    
    # Add a twelve second interval between queries to stay within API query limits
    time.sleep(12)
    
    # Try and save the reviews to the reviews_list
    try:        
        # loop through the reviews["response"]["docs"] and append each review to the list
        for review in GET["response"]["docs"]:
            reviews_list.append(review)    
        # Print the page that was just retrieved
        print(f"Retrieved page {page}")
    except:
        # Print the page number that had no results then break from the loop
        print(f"No results for page {page}")
        break


# Preview the first 5 results in JSON format
# Use json.dumps with argument indent=4 to format data
print(json.dumps(reviews_list[:5], indent=4))


# Convert reviews_list to a Pandas DataFrame using json_normalize()
reviews_list_df=pd.json_normalize(reviews_list)
reviews_list_df


# Extract the title from the "headline.main" column and
# save it to a new column "title"
# Title is between unicode characters \u2018 and \u2019. 
# End string should include " Review" to avoid cutting title early



# Extract 'name' and 'value' from items in "keywords" column
def extract_keywords(keyword_list):
    extracted_keywords = ""
    for item in keyword_list:
        # Extract 'name' and 'value'
        keyword = f"{item['name']}: {item['value']};" 
        # Append the keyword item to the extracted_keywords list
        extracted_keywords += keyword
    return extracted_keywords

# Fix the "keywords" column by converting cells from a list to a string



# Create a list from the "title" column using to_list()
# These titles will be used in the query for The Movie Database






# Prepare The Movie Database query
url = "https://api.themoviedb.org/3/search/movie?query="
tmdb_key_string = "&api_key=" + tmdb_api_key


# Create an empty list to store the results


# Create a request counter to sleep the requests after a multiple
# of 50 requests


# Loop through the titles

    # Check if we need to sleep before making a request


    # Add 1 to the request counter

    
    # Perform a "GET" request for The Movie Database


    # Include a try clause to search for the full movie details.
    # Use the except clause to print out a statement if a movie
    # is not found.

        # Get movie id


        # Make a request for a the full movie details


        # Execute "GET" request with url

        
        # Extract the genre names into a list


        # Extract the spoken_languages' English name into a list


        # Extract the production_countries' name into a list


        # Add the relevant data to a dictionary and
        # append it to the tmdb_movies_list list

        
        # Print out the title that was found




# Preview the first 5 results in JSON format
# Use json.dumps with argument indent=4 to format data



# Convert the results to a DataFrame






# Merge the New York Times reviews and TMDB DataFrames on title



# Remove list brackets and quotation marks on the columns containing lists
# Create a list of the columns that need fixing


# Create a list of characters to remove


# Loop through the list of columns to fix

    # Convert the column to type 'str'


    # Loop through characters to remove


# Display the fixed DataFrame



# Drop "byline.person" column



# Delete duplicate rows and reset index



# Export data to CSV without the index




